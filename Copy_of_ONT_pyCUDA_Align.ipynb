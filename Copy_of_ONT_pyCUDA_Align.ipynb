{
  "nbformat": 4,
  "nbformat_minor": 0,
  "metadata": {
    "colab": {
      "name": "Copy of ONT_pyCUDA_Align.ipynb",
      "provenance": [],
      "collapsed_sections": [],
      "include_colab_link": true
    },
    "kernelspec": {
      "name": "python3",
      "display_name": "Python 3"
    },
    "accelerator": "GPU"
  },
  "cells": [
    {
      "cell_type": "markdown",
      "metadata": {
        "id": "view-in-github",
        "colab_type": "text"
      },
      "source": [
        "<a href=\"https://colab.research.google.com/github/marimiya/hello-world/blob/master/Copy_of_ONT_pyCUDA_Align.ipynb\" target=\"_parent\"><img src=\"https://colab.research.google.com/assets/colab-badge.svg\" alt=\"Open In Colab\"/></a>"
      ]
    },
    {
      "cell_type": "markdown",
      "metadata": {
        "id": "O3L9iwLrKLPc",
        "colab_type": "text"
      },
      "source": [
        "In this exercise we will be creating a python code to generate some artificial DNA sequences that will be our set of reference genes. We will then create a new sequence that is similar to one of the references and create a function that finds the best match. We will measure the performance of this code and then consider how we might create a GPU-accelerated version.\n",
        "\n",
        "First of all let's import a few libraries"
      ]
    },
    {
      "cell_type": "code",
      "metadata": {
        "id": "lfvOf5fgFnQ0",
        "colab_type": "code",
        "colab": {}
      },
      "source": [
        "import random\n",
        "import numpy as np\n",
        "import time"
      ],
      "execution_count": 0,
      "outputs": []
    },
    {
      "cell_type": "markdown",
      "metadata": {
        "id": "_H6SycDpG4KV",
        "colab_type": "text"
      },
      "source": [
        "Next, set up some constants to define the size of the problem"
      ]
    },
    {
      "cell_type": "code",
      "metadata": {
        "id": "lFc8YEaWHFv0",
        "colab_type": "code",
        "colab": {}
      },
      "source": [
        "REFERENCE_LENGTH = 500  # The length of the reference sequences\n",
        "SEQUENCE_LENGTH = 100    # The length of the sequence to be generated (before noise is added)\n",
        "NUMBER_REFERENCES = 100  # The number of references in which to find a match\n",
        "\n",
        "# Dictionary that converts the base letters to an integer\n",
        "ascii_to_index = {\"C\": 0, \"G\": 1, \"A\": 2, \"T\": 3}\n",
        "# Array that can be used to get the base letter from the integer value\n",
        "index_to_ascii = [\"C\", \"G\", \"A\", \"T\"]"
      ],
      "execution_count": 0,
      "outputs": []
    },
    {
      "cell_type": "markdown",
      "metadata": {
        "id": "QKpqNPN6IqSq",
        "colab_type": "text"
      },
      "source": [
        "Create a function to create a populate some artificial reference sequences, which we will be searching for the best alignment"
      ]
    },
    {
      "cell_type": "code",
      "metadata": {
        "id": "ok8LeC2cJwtG",
        "colab_type": "code",
        "colab": {}
      },
      "source": [
        "# Randomly assign CAGTs to the reference sequences\n",
        "def initialise_references():\n",
        "    refs = []\n",
        "\n",
        "    for i in range(NUMBER_REFERENCES):\n",
        "        ref = \"\"\n",
        "        for j in range(REFERENCE_LENGTH):\n",
        "            irand = random.randint(0, 3)\n",
        "            ref += index_to_ascii[irand]\n",
        "\n",
        "        refs.append(ref)\n",
        "\n",
        "    return refs\n"
      ],
      "execution_count": 0,
      "outputs": []
    },
    {
      "cell_type": "markdown",
      "metadata": {
        "id": "KtbeHdTFLDM0",
        "colab_type": "text"
      },
      "source": [
        "Now we are going to generate the sequence to match by randomly selecting one of the reference sequences and then adding some noise to it."
      ]
    },
    {
      "cell_type": "code",
      "metadata": {
        "id": "G81L_ch6LfOz",
        "colab_type": "code",
        "colab": {}
      },
      "source": [
        "# Randomly pick one of the references, pick an offset and\n",
        "# add noise - this will be the sequence we'll seek\n",
        "def initialise_sequence(references):\n",
        "\n",
        "    seq = \"\"\n",
        "    # randomly select the reference string to match\n",
        "    iref = random.randint(0, NUMBER_REFERENCES-1)\n",
        "    ref_offset = random.randint(0,REFERENCE_LENGTH - SEQUENCE_LENGTH)\n",
        "    print(\"Actual offset = \" + str(ref_offset) + \" on sequence #\" + str(iref))\n",
        "    ref = references[iref]\n",
        "    dels = 0\n",
        "    subs = 0\n",
        "    ins = 0\n",
        "\n",
        "    for i in range(ref_offset, ref_offset+SEQUENCE_LENGTH):\n",
        "        base = ref[i]\n",
        "        i_rand = random.randint(0, 1000)\n",
        "\n",
        "        if (i_rand < 22):\n",
        "            # Insertion of up to 4 characters\n",
        "            i_len = random.randint(0, 3)\n",
        "            ins += i_len\n",
        "            cnew=\"\"\n",
        "            for i in range(i_len):\n",
        "                irand = random.randrange(0, 3)\n",
        "                cnew += index_to_ascii[irand]\n",
        "\n",
        "            seq+=cnew + base\n",
        "        elif (i_rand < 44):\n",
        "            subs += 1\n",
        "            # Substitute the current character\n",
        "            inew = random.randint(0, 2)\n",
        "            if (base == \"A\"):\n",
        "                cnew = index_to_ascii[inew if (inew == 2) else 3]\n",
        "            elif (base == \"T\"):\n",
        "                cnew = index_to_ascii[inew]\n",
        "            elif (base == \"C\"):\n",
        "                cnew = index_to_ascii[inew+1]\n",
        "            else:\n",
        "                cnew = index_to_ascii[inew if (inew == 1) else 0]\n",
        "\n",
        "            seq+=cnew\n",
        "        elif (i_rand < 66):\n",
        "            # Deletion\n",
        "            dels += 1\n",
        "        else:\n",
        "            seq += base\n",
        "\n",
        "    print(str(subs) + \" subs, \" + str(dels) + \" dels,\" + str(ins) + \" ins\")\n",
        "    print(ref)\n",
        "    print(seq)\n",
        "\n",
        "    return seq\n"
      ],
      "execution_count": 0,
      "outputs": []
    },
    {
      "cell_type": "markdown",
      "metadata": {
        "id": "zwrAMsg8hGcb",
        "colab_type": "text"
      },
      "source": [
        "Next, create a cost function. In this case it is simple +1 for a match and -1 for anything else (insertion, deletion or substitution)"
      ]
    },
    {
      "cell_type": "code",
      "metadata": {
        "id": "r1Q31u9ZhUEg",
        "colab_type": "code",
        "colab": {}
      },
      "source": [
        "def cost(char1, char2):\n",
        "  return -1 if char1!=char2 else +1"
      ],
      "execution_count": 0,
      "outputs": []
    },
    {
      "cell_type": "markdown",
      "metadata": {
        "id": "fBeijbzML2ku",
        "colab_type": "text"
      },
      "source": [
        "Next we create the main alignment function"
      ]
    },
    {
      "cell_type": "code",
      "metadata": {
        "id": "Nyk80VYYMPqa",
        "colab_type": "code",
        "colab": {}
      },
      "source": [
        "# Compute a cost and, optionally, an offset for the semi-global alignment of seq to ref\n",
        "def align(seq, ref, matrix, trace, compute_trace=False):\n",
        "\n",
        "    max_score = -len(seq)\n",
        "    max_idx = 0\n",
        "\n",
        "    # Initialise the scoring matrices\n",
        "    for i in range(len(seq)):\n",
        "        matrix[i] = -(i+1)\n",
        "        if compute_trace:\n",
        "            trace[i, 0] = -i\n",
        "\n",
        "    # Do the NW matrix calculation (column by column - to preserve memory)\n",
        "    for i, base_r in enumerate(ref):\n",
        "        top_left = 0\n",
        "        bottom_left = matrix[0]\n",
        "        top_right = 0\n",
        "        for j, base_s in enumerate(seq):\n",
        "            cost_m = cost(base_s, base_r) + top_left\n",
        "            cost_i = bottom_left - 1\n",
        "            cost_d = top_right - 1\n",
        "            top_left = matrix[j]\n",
        "            matrix[j] = max(cost_m, cost_i, cost_d)\n",
        "            bottom_left = matrix[j+1]\n",
        "            top_right = matrix[j]\n",
        "\n",
        "            if compute_trace:\n",
        "                if cost_m >= cost_i:\n",
        "                    if cost_m >= cost_d:\n",
        "                        trace[i + 1, j + 1] = [i, j]\n",
        "                    else:\n",
        "                        trace[i + 1, j + 1] = [i + 1, j]\n",
        "                else:\n",
        "                    if cost_i >= cost_d:\n",
        "                        trace[i + 1, j + 1] = [i, j + 1]\n",
        "                    else:\n",
        "                        trace[i + 1, j + 1] = [i + 1, j]\n",
        "\n",
        "        if matrix[len(seq)-1] > max_score:\n",
        "            max_score = matrix[len(seq)-1]\n",
        "            max_idx = i\n",
        "\n",
        "    return max_score, trace, max_idx\n"
      ],
      "execution_count": 0,
      "outputs": []
    },
    {
      "cell_type": "markdown",
      "metadata": {
        "id": "3kbd3nQAMVKN",
        "colab_type": "text"
      },
      "source": [
        "We also need a function to compute the cost of the aligment using the back-tracking part of the Needleman-Wunsch algorithm"
      ]
    },
    {
      "cell_type": "code",
      "metadata": {
        "id": "lwHS8DvQMjMY",
        "colab_type": "code",
        "colab": {}
      },
      "source": [
        "# Use the traceback to get the offset\n",
        "def compute_offset(traceback, len_seq, ref, max_idx):\n",
        "\n",
        "    match = \"\"\n",
        "    idx = max_idx\n",
        "    ls = len_seq\n",
        "\n",
        "    # Traceback to get the offset\n",
        "    while ls > 0:\n",
        "        match = ref[idx - 1] + match\n",
        "        idx, ls = traceback[idx, ls]\n",
        "        #print(idx, ls)\n",
        "\n",
        "    return idx\n",
        "\n"
      ],
      "execution_count": 0,
      "outputs": []
    },
    {
      "cell_type": "markdown",
      "metadata": {
        "id": "2-WQfdKsND_G",
        "colab_type": "text"
      },
      "source": [
        "Right, now we have all the main functions defined we can create the main body of the program that will execute the functions we defined in order to find the best alignment between our references and the noisy sequence."
      ]
    },
    {
      "cell_type": "code",
      "metadata": {
        "id": "qZYqMZeJNbw2",
        "colab_type": "code",
        "colab": {
          "base_uri": "https://localhost:8080/",
          "height": 154
        },
        "outputId": "202277f1-92b9-4ba2-b41f-a27dddfc3d9e"
      },
      "source": [
        "offset = 0\n",
        "score = 0\n",
        "max_score = 0\n",
        "ref_idx = 0\n",
        "time_span = 0\n",
        "\n",
        "# For degugging, it can be helpful to set the seed so that the same strings are produced each time\n",
        "#random.seed(30)\n",
        "\n",
        "t1 = time.time()\n",
        "\n",
        "refs = initialise_references()\n",
        "seq = initialise_sequence(refs)\n",
        "\n",
        "# Create arrays for the scoring matrix and traceback matrix\n",
        "score_matrix = np.zeros(len(seq) + 1, dtype=np.int32)\n",
        "trace_matrix = np.zeros((REFERENCE_LENGTH+1, len(seq) + 1, 2), dtype=np.int32)\n",
        "max_score = -len(seq)\n",
        "\n",
        "time_span = time.time() - t1\n",
        "print(\"Data initialisation took \" + str(time_span) + \" milliseconds.\")\n",
        "\n",
        "# Run alignment on the host\n",
        "t1 = time.time()\n",
        "\n",
        "scores=[]\n",
        "for i in range(NUMBER_REFERENCES):\n",
        "    score, _, _ = align(seq, refs[i], score_matrix, trace_matrix)\n",
        "    scores.append(score)\n",
        "    if score > max_score:\n",
        "        max_score = score\n",
        "        ref_idx = i\n",
        "\n",
        "# now get offset\n",
        "score, trace_matrix, offset_idx = align(seq, refs[ref_idx], score_matrix, trace_matrix, compute_trace=True)\n",
        "offset = compute_offset(trace_matrix, len(seq), refs[ref_idx], offset_idx)\n",
        "print(\"Optimal cost of \" + str(max_score) + \" found at offset \" + str(offset) + \" in reference \" + str(ref_idx))\n",
        "time_span = time.time() - t1\n",
        "print(\"Serial took \" + str(time_span) + \" seconds\")"
      ],
      "execution_count": 8,
      "outputs": [
        {
          "output_type": "stream",
          "text": [
            "Actual offset = 12 on sequence #33\n",
            "4 subs, 2 dels,3 ins\n",
            "GGAGGGCGCTCGCCATCGGATGGTACGGTCGTGACTGACTACCACTAATTATTTTAAGGGGTAGAAGGTAACCACGGGCGTGCCTGACAGCTGTCACGAAACCCTATGAGTTTTAGGCGGTGCGATGGTTTTCCAGTGGATTTCCGACCGCTGGGAACACTACACTCCTAGTCAACTCTTGTTTGGGTAGGCCGTTAATAGTTCTACGAGCGTTCAAAGATAACTCACTGAACGAAGGAATTCGCCCAGTGCACTTTACATCAGAATTGGGCTACAACTCTTCGCTTGTACTTTGGGGGGTCTAGATAGGGGTTGAGGAAATAACGCGAGGGCGACGTATACTTTGGATTTAAACCTTAAGAATTTTCATCAGCACAAACCAACGTCCCTCATCCTCATCGATGATTGTCGTCAACACGCGCGGTTCTTTCTGTCTCAGGTCGCGCACATATGGTTGCGGGTACGCAGGGTGGGAGTGAAGCTGCTTGGCATCTGCACCA\n",
            "CCATCGGATGGTACGCTCGTGACTGACTAGCAGACTATTTATTTTAAGGGGTAGAAGGTAACCACGGGCGTGCCTGACAGCTGTCACGAAACCCTATAGTT\n",
            "Data initialisation took 0.0770113468170166 milliseconds.\n",
            "Optimal cost of 90 found at offset 12 in reference 33\n",
            "Serial took 38.44259071350098 seconds\n"
          ],
          "name": "stdout"
        }
      ]
    },
    {
      "cell_type": "markdown",
      "metadata": {
        "id": "E09u_dqcnpk9",
        "colab_type": "text"
      },
      "source": [
        "Great - now can you create a kernel to do the alignment? Have a think for 10 minutes before you start implementing anything.\n",
        "\n",
        "We also need to install pycuda and to import the libraries (for this, insert a scratch code window and type 'pip install pycuda')\n"
      ]
    },
    {
      "cell_type": "code",
      "metadata": {
        "id": "imRR-O-0n50f",
        "colab_type": "code",
        "colab": {
          "base_uri": "https://localhost:8080/",
          "height": 434
        },
        "outputId": "8bdb1832-0b80-49f9-d846-b145a59daf7b"
      },
      "source": [
        "import pycuda.driver as cuda\n",
        "import pycuda.autoinit\n",
        "from pycuda.compiler import SourceModule\n",
        "from pycuda import gpuarray\n",
        "import numpy as np\n",
        "\n",
        "random.seed(30)\n",
        "\n",
        "refs = initialise_references()\n",
        "seq = initialise_sequence(refs) \n",
        "\n",
        "seq_byte = bytearray(seq,'utf8')\n",
        "seq_array = np.array(seq_byte)\n",
        "max_score_array = np.array(np.int(max_score))\n",
        "refs2 = [bytearray(i,'utf8') for i in refs]\n",
        "\n",
        "full_marix = np.zeros(len(seq)*NUMBER_REFERENCES, dtype=np.int32)\n",
        "\n",
        "gpu_refs = gpuarray.to_gpu(refs2)\n",
        "gpu_seq = gpuarray.to_gpu(seq)\n",
        "gpu_matrix = gpuarray.to_gpu(fullmatrix)\n",
        "gpu_scores = gpuarray.to_gpu(max_score_array)\n",
        "\n",
        "\n",
        "# Create your kernel (or kernels)\n",
        "myfunc = SourceModule(\"\"\"\n",
        "__global__ void aligngpu(char* seq, int* len_seq, char* refs, int num_ref, int num_refs, int* matrix, int* max_score)\n",
        "{\n",
        "    int idx = thredIDx.x + blockDim.x*blockDim.x;\n",
        "    int gridSize = gridDim.x * blockDim.x;   \n",
        "\n",
        "    for (int  )\n",
        "\n",
        "    # Initialise the scoring matrices\n",
        "    for (int j=0;j < len_seq;j++)\n",
        "        matrix[offset + j] = -(j+1);\n",
        "\n",
        "    # Do the NW matrix calculation (column by column - to preserve memory)\n",
        "    for (int i=0;i<0;i<len_ref;i++)\n",
        "    {\n",
        "      char base_r = refs[offset + i];\n",
        "      int top_left = 0;\n",
        "      int botom_left = matrrix[offset];\n",
        "      int top_right = 0;\n",
        "      \n",
        "      for (int j=0;j < len_seq;j++)\n",
        "      {\n",
        "        char base_s = seq[j];\n",
        "        int cost_m = (base_s == base_r ? 1 : -1) + top_left;\n",
        "\n",
        "\n",
        "\n",
        "\n",
        "      }\n",
        "\n",
        "\n",
        "\n",
        "\n",
        "    }\n",
        "\n",
        "\n",
        "\n",
        "\n",
        "\n",
        "\n",
        "\n",
        "}\n",
        "\"\"\")\n",
        "\n",
        "# Create an empty 1d array\n",
        "d = np.zeros((16), dtype=np.uint32)\n",
        "# Allocate GPU memory\n",
        "d_gpu = cuda.mem_alloc(d.nbytes)\n",
        "# clear the gpu memory\n",
        "cuda.memcpy_htod(d_gpu, d)\n",
        "\n",
        "# Get the function handle\n",
        "func = myfunc.get_function(\"aligngpu\")\n",
        "len_seq = np.int32(len(seq))\n",
        "len_ref = np.int32(REFERENCE_LENGTH)\n",
        "num_ref = np.int32(NUMBER_REFERENCES)\n",
        "maxidx = np.int32(0)\n",
        "\n",
        "func = gpu_seq.gpudata, len_seq, gpu_refs.gpudata, len_ref, num_ref, gpu_matrix.gpudata, gpu_scores.gpudata, block = (64,1,1), grid - (64,1,1))\n",
        "\n",
        "max_s = np.int32(-len_seq)\n",
        "scores = gpu_scores.get()\n",
        "max_idx = 0\n",
        "\n",
        "\n",
        "for i in range(NUMBER_REFERENCES);\n",
        "  if scores[i] > max_s:\n",
        "    max_s = scores[i]\n",
        "    max_idx = i\n",
        "\n",
        "score, trace_matrix, offset_idx = align(seq, refs[max_idx], score_matrix, trace_matrix, compute_trace=True)\n",
        "\n",
        "offset = compute_offset(trace_matrix, len(seq), refs[max_idx], offset_idx)\n",
        "print(\"Optimal cost of \" + str(max_score) + \" found at offset \" + str(offset) + \" in reference \" + str(ref_idx))\n",
        "time_span = time.time() - t1\n",
        "print(\"CUDA version took \" + str(time_span) + \" seconds\")"
      ],
      "execution_count": 90,
      "outputs": [
        {
          "output_type": "stream",
          "text": [
            "Actual offset = 299 on sequence #3\n",
            "3 subs, 5 dels,2 ins\n",
            "TCCCTCAAGGTTAGGGGCGTCCCATTACGTCCCTGCACGGGCTTAGTGTAGATTAAATCGTAGACGCTTACTTCGCCCTGATTGCACAGCCGTAGACCCCCTAAGTGTGCGGGGATTCGAGATTTGGTAGGTCCTCTATGAGAGTCAAACCGGAGAGGTCTTTGCGAGCTACGGTAACTTGCACGACTAGGACAACTCCCGGTCCCTAGCCACAACCCTGCCCAAGAGACTTAAGGTCCGGATGCCTATGATTCGGAGTAGTGCTCCAACTGCCGAAAGCCTGCTATGAGCCGTCCTCGTGAGAAGCACTGCCATCTTCGTGTTACGTGCGGAGTTGGTAATTAACTATGGTCCCTCTTGAGCTACTGGCCTTGAGAAGCTTATCTCTGGCCTGATCGTACAGAGACCACGGAATCCGTCAGTCCCACGCGGGTCTTACTACCCATCAGGTGCACCATTTTAGACTGTGTAACTCACGAGTCAAAGAGTCGCCAGAACTC\n",
            "TGAGAAGCACTGCATCTTCGTGTTACGTGACCGGATTGGTAATTATCTATGGTACCTTTGAGCTACTGCCTTGAGAAGCTTATCTCTGGCCGATCGT\n"
          ],
          "name": "stdout"
        },
        {
          "output_type": "error",
          "ename": "AttributeError",
          "evalue": "ignored",
          "traceback": [
            "\u001b[0;31m---------------------------------------------------------------------------\u001b[0m",
            "\u001b[0;31mAttributeError\u001b[0m                            Traceback (most recent call last)",
            "\u001b[0;32m<ipython-input-90-10d8b7bd5005>\u001b[0m in \u001b[0;36m<module>\u001b[0;34m()\u001b[0m\n\u001b[1;32m     17\u001b[0m \u001b[0mfull_marix\u001b[0m \u001b[0;34m=\u001b[0m \u001b[0mnp\u001b[0m\u001b[0;34m.\u001b[0m\u001b[0mzeros\u001b[0m\u001b[0;34m(\u001b[0m\u001b[0mlen\u001b[0m\u001b[0;34m(\u001b[0m\u001b[0mseq\u001b[0m\u001b[0;34m)\u001b[0m\u001b[0;34m*\u001b[0m\u001b[0mNUMBER_REFERENCES\u001b[0m\u001b[0;34m,\u001b[0m \u001b[0mdtype\u001b[0m\u001b[0;34m=\u001b[0m\u001b[0mnp\u001b[0m\u001b[0;34m.\u001b[0m\u001b[0mint32\u001b[0m\u001b[0;34m)\u001b[0m\u001b[0;34m\u001b[0m\u001b[0;34m\u001b[0m\u001b[0m\n\u001b[1;32m     18\u001b[0m \u001b[0;34m\u001b[0m\u001b[0m\n\u001b[0;32m---> 19\u001b[0;31m \u001b[0mgpu_refs\u001b[0m \u001b[0;34m=\u001b[0m \u001b[0mgpuarray\u001b[0m\u001b[0;34m.\u001b[0m\u001b[0mto_gpu\u001b[0m\u001b[0;34m(\u001b[0m\u001b[0mrefs2\u001b[0m\u001b[0;34m)\u001b[0m\u001b[0;34m\u001b[0m\u001b[0;34m\u001b[0m\u001b[0m\n\u001b[0m\u001b[1;32m     20\u001b[0m \u001b[0mgpu_seq\u001b[0m \u001b[0;34m=\u001b[0m \u001b[0mgpuarray\u001b[0m\u001b[0;34m.\u001b[0m\u001b[0mto_gpu\u001b[0m\u001b[0;34m(\u001b[0m\u001b[0mseq\u001b[0m\u001b[0;34m)\u001b[0m\u001b[0;34m\u001b[0m\u001b[0;34m\u001b[0m\u001b[0m\n\u001b[1;32m     21\u001b[0m \u001b[0mgpu_matrix\u001b[0m \u001b[0;34m=\u001b[0m \u001b[0mgpuarray\u001b[0m\u001b[0;34m.\u001b[0m\u001b[0mto_gpu\u001b[0m\u001b[0;34m(\u001b[0m\u001b[0mfullmatrix\u001b[0m\u001b[0;34m)\u001b[0m\u001b[0;34m\u001b[0m\u001b[0;34m\u001b[0m\u001b[0m\n",
            "\u001b[0;32m/usr/local/lib/python3.6/dist-packages/pycuda/gpuarray.py\u001b[0m in \u001b[0;36mto_gpu\u001b[0;34m(ary, allocator)\u001b[0m\n\u001b[1;32m   1047\u001b[0m \u001b[0;32mdef\u001b[0m \u001b[0mto_gpu\u001b[0m\u001b[0;34m(\u001b[0m\u001b[0mary\u001b[0m\u001b[0;34m,\u001b[0m \u001b[0mallocator\u001b[0m\u001b[0;34m=\u001b[0m\u001b[0mdrv\u001b[0m\u001b[0;34m.\u001b[0m\u001b[0mmem_alloc\u001b[0m\u001b[0;34m)\u001b[0m\u001b[0;34m:\u001b[0m\u001b[0;34m\u001b[0m\u001b[0;34m\u001b[0m\u001b[0m\n\u001b[1;32m   1048\u001b[0m     \u001b[0;34m\"\"\"converts a numpy array to a GPUArray\"\"\"\u001b[0m\u001b[0;34m\u001b[0m\u001b[0;34m\u001b[0m\u001b[0m\n\u001b[0;32m-> 1049\u001b[0;31m     \u001b[0mresult\u001b[0m \u001b[0;34m=\u001b[0m \u001b[0mGPUArray\u001b[0m\u001b[0;34m(\u001b[0m\u001b[0mary\u001b[0m\u001b[0;34m.\u001b[0m\u001b[0mshape\u001b[0m\u001b[0;34m,\u001b[0m \u001b[0mary\u001b[0m\u001b[0;34m.\u001b[0m\u001b[0mdtype\u001b[0m\u001b[0;34m,\u001b[0m \u001b[0mallocator\u001b[0m\u001b[0;34m,\u001b[0m \u001b[0mstrides\u001b[0m\u001b[0;34m=\u001b[0m\u001b[0m_compact_strides\u001b[0m\u001b[0;34m(\u001b[0m\u001b[0mary\u001b[0m\u001b[0;34m)\u001b[0m\u001b[0;34m)\u001b[0m\u001b[0;34m\u001b[0m\u001b[0;34m\u001b[0m\u001b[0m\n\u001b[0m\u001b[1;32m   1050\u001b[0m     \u001b[0mresult\u001b[0m\u001b[0;34m.\u001b[0m\u001b[0mset\u001b[0m\u001b[0;34m(\u001b[0m\u001b[0mary\u001b[0m\u001b[0;34m)\u001b[0m\u001b[0;34m\u001b[0m\u001b[0;34m\u001b[0m\u001b[0m\n\u001b[1;32m   1051\u001b[0m     \u001b[0;32mreturn\u001b[0m \u001b[0mresult\u001b[0m\u001b[0;34m\u001b[0m\u001b[0;34m\u001b[0m\u001b[0m\n",
            "\u001b[0;31mAttributeError\u001b[0m: 'list' object has no attribute 'shape'"
          ]
        }
      ]
    },
    {
      "cell_type": "code",
      "metadata": {
        "id": "g1arjOqjnZaV",
        "colab_type": "code",
        "colab": {}
      },
      "source": [
        "## GPU version of align function\n",
        "# Compute a cost and, optionally, an offset for the semi-global alignment of seq to ref\n",
        "def aligngpu(seq, ref, matrix, trace, compute_trace=False):\n",
        "\n",
        "    max_score = -len(seq)\n",
        "    max_idx = 0\n",
        "\n",
        "    # Initialise the scoring matrices\n",
        "    for i in range(len(seq)):\n",
        "        matrix[i] = -(i+1)\n",
        "        if compute_trace:\n",
        "            trace[i, 0] = -i\n",
        "\n",
        "    # Do the NW matrix calculation (column by column - to preserve memory)\n",
        "    for i, base_r in enumerate(ref):\n",
        "        top_left = 0\n",
        "        bottom_left = matrix[0]\n",
        "        top_right = 0\n",
        "        for j, base_s in enumerate(seq):\n",
        "            cost_m = cost(base_s, base_r) + top_left\n",
        "            cost_i = bottom_left - 1\n",
        "            cost_d = top_right - 1\n",
        "            top_left = matrix[j]\n",
        "            matrix[j] = max(cost_m, cost_i, cost_d)\n",
        "            bottom_left = matrix[j+1]\n",
        "            top_right = matrix[j]\n",
        "\n",
        "            if compute_trace:\n",
        "                if cost_m >= cost_i:\n",
        "                    if cost_m >= cost_d:\n",
        "                        trace[i + 1, j + 1] = [i, j]\n",
        "                    else:\n",
        "                        trace[i + 1, j + 1] = [i + 1, j]\n",
        "                else:\n",
        "                    if cost_i >= cost_d:\n",
        "                        trace[i + 1, j + 1] = [i, j + 1]\n",
        "                    else:\n",
        "                        trace[i + 1, j + 1] = [i + 1, j]\n",
        "\n",
        "        if matrix[len(seq)-1] > max_score:\n",
        "            max_score = matrix[len(seq)-1]\n",
        "            max_idx = i\n",
        "\n",
        "    return max_score, trace, max_idx\n"
      ],
      "execution_count": 0,
      "outputs": []
    },
    {
      "cell_type": "code",
      "metadata": {
        "id": "wrbYpNH_ZL10",
        "colab_type": "code",
        "colab": {
          "base_uri": "https://localhost:8080/",
          "height": 212
        },
        "outputId": "e480e045-9b2c-4c74-ddae-b430abc5dd84"
      },
      "source": [
        "new_refs = list()\n",
        "new_ref = []\n",
        "refnum = len(refs)\n",
        "\n",
        "for j in range(refnum-1):\n",
        "  ref_ind = list()\n",
        "  print(j)\n",
        "  for i in list(refs[j]):\n",
        "    ref_ind.append(ascii_to_index.get(i))\n",
        "    new_ref = ''.join([str(m) for m in ref_ind])\n",
        "    new_refs[j] = new_ref"
      ],
      "execution_count": 75,
      "outputs": [
        {
          "output_type": "stream",
          "text": [
            "0\n"
          ],
          "name": "stdout"
        },
        {
          "output_type": "error",
          "ename": "IndexError",
          "evalue": "ignored",
          "traceback": [
            "\u001b[0;31m---------------------------------------------------------------------------\u001b[0m",
            "\u001b[0;31mIndexError\u001b[0m                                Traceback (most recent call last)",
            "\u001b[0;32m<ipython-input-75-bc04bf0d9a22>\u001b[0m in \u001b[0;36m<module>\u001b[0;34m()\u001b[0m\n\u001b[1;32m      9\u001b[0m     \u001b[0mref_ind\u001b[0m\u001b[0;34m.\u001b[0m\u001b[0mappend\u001b[0m\u001b[0;34m(\u001b[0m\u001b[0mascii_to_index\u001b[0m\u001b[0;34m.\u001b[0m\u001b[0mget\u001b[0m\u001b[0;34m(\u001b[0m\u001b[0mi\u001b[0m\u001b[0;34m)\u001b[0m\u001b[0;34m)\u001b[0m\u001b[0;34m\u001b[0m\u001b[0;34m\u001b[0m\u001b[0m\n\u001b[1;32m     10\u001b[0m     \u001b[0mnew_ref\u001b[0m \u001b[0;34m=\u001b[0m \u001b[0;34m''\u001b[0m\u001b[0;34m.\u001b[0m\u001b[0mjoin\u001b[0m\u001b[0;34m(\u001b[0m\u001b[0;34m[\u001b[0m\u001b[0mstr\u001b[0m\u001b[0;34m(\u001b[0m\u001b[0mm\u001b[0m\u001b[0;34m)\u001b[0m \u001b[0;32mfor\u001b[0m \u001b[0mm\u001b[0m \u001b[0;32min\u001b[0m \u001b[0mref_ind\u001b[0m\u001b[0;34m]\u001b[0m\u001b[0;34m)\u001b[0m\u001b[0;34m\u001b[0m\u001b[0;34m\u001b[0m\u001b[0m\n\u001b[0;32m---> 11\u001b[0;31m     \u001b[0mnew_refs\u001b[0m\u001b[0;34m[\u001b[0m\u001b[0mj\u001b[0m\u001b[0;34m]\u001b[0m \u001b[0;34m=\u001b[0m \u001b[0mnew_ref\u001b[0m\u001b[0;34m\u001b[0m\u001b[0;34m\u001b[0m\u001b[0m\n\u001b[0m",
            "\u001b[0;31mIndexError\u001b[0m: list assignment index out of range"
          ]
        }
      ]
    },
    {
      "cell_type": "code",
      "metadata": {
        "id": "y1DwYR5wV6kg",
        "colab_type": "code",
        "colab": {
          "base_uri": "https://localhost:8080/",
          "height": 70
        },
        "outputId": "0d561ecb-6e34-4c05-8d64-aea7c03eb5ae"
      },
      "source": [
        "refone = refs[0]\n",
        "ref_ind = []\n",
        "\n",
        "for i in list(refone):\n",
        "  ref_ind.append(ascii_to_index.get(i))\n",
        "\n",
        "print(ref_ind)\n",
        "\n",
        "new_ref = []\n",
        "new_ref = ''.join([str(i) for i in ref_ind])\n",
        "\n",
        "print(new_ref)\n"
      ],
      "execution_count": 60,
      "outputs": [
        {
          "output_type": "stream",
          "text": [
            "[3, 3, 0, 1, 1, 0, 2, 3, 0, 2, 1, 2, 1, 3, 2, 2, 3, 3, 1, 1, 3, 3, 0, 3, 0, 0, 3, 3, 2, 3, 2, 0, 2, 1, 2, 2, 3, 3, 1, 2, 0, 1, 1, 1, 1, 2, 1, 1, 3, 2, 2, 3, 1, 0, 1, 0, 3, 3, 2, 0, 0, 0, 1, 2, 3, 2, 2, 3, 3, 1, 2, 0, 0, 2, 1, 2, 0, 3, 0, 1, 3, 0, 1, 0, 3, 3, 2, 3, 3, 1, 0, 0, 0, 3, 2, 0, 0, 3, 1, 3, 1, 2, 2, 1, 2, 1, 3, 3, 0, 3, 2, 0, 2, 0, 2, 0, 3, 0, 3, 3, 1, 0, 3, 3, 2, 0, 1, 2, 1, 0, 0, 3, 0, 1, 0, 0, 2, 3, 0, 0, 2, 2, 2, 0, 3, 2, 0, 1, 1, 3, 2, 1, 1, 0, 1, 0, 2, 0, 0, 0, 2, 2, 0, 2, 3, 0, 1, 1, 1, 2, 2, 1, 2, 2, 3, 3, 3, 3, 0, 1, 3, 2, 0, 2, 3, 0, 1, 1, 3, 1, 1, 3, 3, 1, 3, 1, 1, 3, 1, 1, 0, 2, 0, 2, 0, 1, 2, 3, 0, 0, 3, 2, 3, 0, 1, 3, 1, 3, 1, 3, 0, 2, 1, 0, 2, 1, 2, 0, 1, 2, 0, 0, 2, 1, 3, 0, 3, 2, 2, 1, 2, 1, 3, 1, 2, 2, 1, 1, 3, 1, 0, 1, 0, 2, 0, 2, 1, 0, 2, 1, 2, 0, 0, 2, 1, 0, 1, 1, 2, 0, 0, 3, 0, 0, 3, 0, 2, 1, 3, 2, 3, 1, 3, 0, 0, 2, 0, 1, 1, 2, 0, 0, 2, 3, 2, 3, 1, 2, 3, 1, 2, 0, 2, 0, 0, 1, 2, 2, 1, 3, 3, 2, 1, 3, 1, 1, 3, 3, 3, 0, 3, 1, 0, 3, 0, 2, 3, 1, 0, 2, 3, 3, 3, 1, 0, 2, 2, 1, 0, 1, 1, 1, 3, 3, 0, 3, 0, 1, 2, 1, 2, 3, 0, 2, 0, 0, 2, 2, 3, 2, 1, 1, 0, 0, 0, 2, 2, 1, 0, 3, 3, 1, 3, 0, 1, 1, 1, 2, 0, 0, 1, 1, 3, 3, 2, 0, 3, 3, 0, 1, 3, 2, 0, 0, 2, 3, 3, 0, 1, 0, 0, 1, 2, 0, 0, 1, 1, 0, 3, 3, 0, 3, 2, 3, 0, 0, 3, 3, 1, 3, 2, 3, 1, 3, 3, 0, 0, 0, 3, 0, 0, 2, 3, 2, 3, 2, 0, 3, 1, 3, 3, 2, 0, 1, 3, 0, 0, 2, 2, 1, 2, 2, 0, 1, 3, 0, 1, 2, 0, 2, 1, 1, 2, 2, 3, 2, 2, 0, 3, 0, 3, 3, 1, 2, 3, 2, 2, 3, 3, 1, 0, 1, 2, 0, 2, 0, 0, 1, 3, 2, 0, 1, 0, 0, 3, 3, 2, 0, 2, 2]\n",
            "33011023021213223311330300332320212233120111121132231010332000123223312002120301301033233100032003131221213303202020303310332012100301002300222032011321101020002202301112212233330132023011311331311311020201230032301313130210212012002130322121312211310102021021200210112003003021323130020112002323123120200122133213113330310302310233310221011133030121230200223211000221033130111200113320330132002330100120011033032300331323133000300232320313320130022122013012021122322030331232233101202001320100332022\n"
          ],
          "name": "stdout"
        }
      ]
    },
    {
      "cell_type": "code",
      "metadata": {
        "id": "mbxj65Mocx_W",
        "colab_type": "code",
        "colab": {
          "base_uri": "https://localhost:8080/",
          "height": 34
        },
        "outputId": "0a7d1ee9-8317-40f7-c2fc-68940dcb5670"
      },
      "source": [
        "refs2 = np.empty((NUMBER_REFERENCES,REFERENCE_LENGTH),dtype=bytes)\n",
        "print(refs2.shape)\n"
      ],
      "execution_count": 70,
      "outputs": [
        {
          "output_type": "stream",
          "text": [
            "(100, 500)\n"
          ],
          "name": "stdout"
        }
      ]
    },
    {
      "cell_type": "code",
      "metadata": {
        "id": "ZM9phQePeRhK",
        "colab_type": "code",
        "colab": {
          "base_uri": "https://localhost:8080/",
          "height": 212
        },
        "outputId": "ea0a525e-ce0a-4e8e-b937-cf819a7b5d05"
      },
      "source": [
        "for ref, i in enumerate(refs, refs2):\n",
        "  #print(i)\n",
        "  print(ref) \n",
        "  #refs2[i] = ascii_to_index.get(j)"
      ],
      "execution_count": 74,
      "outputs": [
        {
          "output_type": "error",
          "ename": "TypeError",
          "evalue": "ignored",
          "traceback": [
            "\u001b[0;31m---------------------------------------------------------------------------\u001b[0m",
            "\u001b[0;31mTypeError\u001b[0m                                 Traceback (most recent call last)",
            "\u001b[0;32m<ipython-input-74-56723204f968>\u001b[0m in \u001b[0;36m<module>\u001b[0;34m()\u001b[0m\n\u001b[0;32m----> 1\u001b[0;31m \u001b[0;32mfor\u001b[0m \u001b[0mref\u001b[0m\u001b[0;34m,\u001b[0m \u001b[0mi\u001b[0m \u001b[0;32min\u001b[0m \u001b[0menumerate\u001b[0m\u001b[0;34m(\u001b[0m\u001b[0mrefs\u001b[0m\u001b[0;34m,\u001b[0m \u001b[0mrefs2\u001b[0m\u001b[0;34m)\u001b[0m\u001b[0;34m:\u001b[0m\u001b[0;34m\u001b[0m\u001b[0;34m\u001b[0m\u001b[0m\n\u001b[0m\u001b[1;32m      2\u001b[0m   \u001b[0;31m#print(i)\u001b[0m\u001b[0;34m\u001b[0m\u001b[0;34m\u001b[0m\u001b[0;34m\u001b[0m\u001b[0m\n\u001b[1;32m      3\u001b[0m   \u001b[0mprint\u001b[0m\u001b[0;34m(\u001b[0m\u001b[0mref\u001b[0m\u001b[0;34m)\u001b[0m\u001b[0;34m\u001b[0m\u001b[0;34m\u001b[0m\u001b[0m\n\u001b[1;32m      4\u001b[0m   \u001b[0;31m#refs2[i] = ascii_to_index.get(j)\u001b[0m\u001b[0;34m\u001b[0m\u001b[0;34m\u001b[0m\u001b[0;34m\u001b[0m\u001b[0m\n",
            "\u001b[0;31mTypeError\u001b[0m: only integer scalar arrays can be converted to a scalar index"
          ]
        }
      ]
    },
    {
      "cell_type": "code",
      "metadata": {
        "id": "lOExA1ntf4M6",
        "colab_type": "code",
        "colab": {
          "base_uri": "https://localhost:8080/",
          "height": 34
        },
        "outputId": "3711bdcc-a6dd-4c93-eab1-3eabb83f9124"
      },
      "source": [
        "\n",
        "seq_byte = bytearray(seq,'utf8')\n",
        "seq_array = np.array(seq_byte)\n",
        "max_score_array = np.array(np.int(max_score))\n"
      ],
      "execution_count": 83,
      "outputs": [
        {
          "output_type": "stream",
          "text": [
            "90\n"
          ],
          "name": "stdout"
        }
      ]
    },
    {
      "cell_type": "markdown",
      "metadata": {
        "id": "A15_xWpvrpiT",
        "colab_type": "text"
      },
      "source": [
        "Now create the calling code in Python (you can leave all the other functions as they were)"
      ]
    },
    {
      "cell_type": "code",
      "metadata": {
        "id": "9TM6sHA5rvTC",
        "colab_type": "code",
        "colab": {
          "base_uri": "https://localhost:8080/",
          "height": 434
        },
        "outputId": "9e1edcf9-3aa6-4bbb-c4b7-4b8bc0e3c7b3"
      },
      "source": [
        "# Now run the same using our kernel\n",
        "t1 = time.time()\n",
        "\n",
        "#TODO - Insert data preparation code\n",
        "\n",
        "random.seed(30)\n",
        "\n",
        "refs = initialise_references()\n",
        "seq = initialise_sequence(refs) \n",
        "\n",
        "seq_byte = bytearray(seq,'utf8')\n",
        "seq_array = np.array(seq_byte)\n",
        "max_score_array = np.array(np.int(max_score))\n",
        "refs2 = [np.array(i,'utf8') for i in refs]\n",
        "\n",
        "time_span = time.time() - t1\n",
        "print(\"Data initialisation took \" + str(time_span) + \" milliseconds.\")\n",
        "\n",
        "t1 = time.time()\n",
        "\n",
        "#TODO Insert alignment code\n",
        "\n",
        "max_score, trace, max_idx = align(seq, refs2, matrix, trace, compute_trace=False)\n",
        "\n",
        "\n",
        "# now get offset on the best reference match\n",
        "score, trace_matrix, offset_idx = align(seq, refs[max_idx], score_matrix, trace_matrix, compute_trace=True)\n",
        "\n",
        "offset = compute_offset(trace_matrix, len(seq), refs[max_idx], offset_idx)\n",
        "print(\"Optimal cost of \" + str(max_s) + \" found at offset \" + str(offset) + \" in reference \" + str(ref_idx))\n",
        "time_span = time.time() - t1\n",
        "print(\"CUDA version took \" + str(time_span) + \" seconds\")"
      ],
      "execution_count": 87,
      "outputs": [
        {
          "output_type": "stream",
          "text": [
            "Actual offset = 299 on sequence #3\n",
            "3 subs, 5 dels,2 ins\n",
            "TCCCTCAAGGTTAGGGGCGTCCCATTACGTCCCTGCACGGGCTTAGTGTAGATTAAATCGTAGACGCTTACTTCGCCCTGATTGCACAGCCGTAGACCCCCTAAGTGTGCGGGGATTCGAGATTTGGTAGGTCCTCTATGAGAGTCAAACCGGAGAGGTCTTTGCGAGCTACGGTAACTTGCACGACTAGGACAACTCCCGGTCCCTAGCCACAACCCTGCCCAAGAGACTTAAGGTCCGGATGCCTATGATTCGGAGTAGTGCTCCAACTGCCGAAAGCCTGCTATGAGCCGTCCTCGTGAGAAGCACTGCCATCTTCGTGTTACGTGCGGAGTTGGTAATTAACTATGGTCCCTCTTGAGCTACTGGCCTTGAGAAGCTTATCTCTGGCCTGATCGTACAGAGACCACGGAATCCGTCAGTCCCACGCGGGTCTTACTACCCATCAGGTGCACCATTTTAGACTGTGTAACTCACGAGTCAAAGAGTCGCCAGAACTC\n",
            "TGAGAAGCACTGCATCTTCGTGTTACGTGACCGGATTGGTAATTATCTATGGTACCTTTGAGCTACTGCCTTGAGAAGCTTATCTCTGGCCGATCGT\n"
          ],
          "name": "stdout"
        },
        {
          "output_type": "error",
          "ename": "TypeError",
          "evalue": "ignored",
          "traceback": [
            "\u001b[0;31m---------------------------------------------------------------------------\u001b[0m",
            "\u001b[0;31mTypeError\u001b[0m                                 Traceback (most recent call last)",
            "\u001b[0;32m<ipython-input-87-3a8d00356b4a>\u001b[0m in \u001b[0;36m<module>\u001b[0;34m()\u001b[0m\n\u001b[1;32m     11\u001b[0m \u001b[0mseq_array\u001b[0m \u001b[0;34m=\u001b[0m \u001b[0mnp\u001b[0m\u001b[0;34m.\u001b[0m\u001b[0marray\u001b[0m\u001b[0;34m(\u001b[0m\u001b[0mseq_byte\u001b[0m\u001b[0;34m)\u001b[0m\u001b[0;34m\u001b[0m\u001b[0;34m\u001b[0m\u001b[0m\n\u001b[1;32m     12\u001b[0m \u001b[0mmax_score_array\u001b[0m \u001b[0;34m=\u001b[0m \u001b[0mnp\u001b[0m\u001b[0;34m.\u001b[0m\u001b[0marray\u001b[0m\u001b[0;34m(\u001b[0m\u001b[0mnp\u001b[0m\u001b[0;34m.\u001b[0m\u001b[0mint\u001b[0m\u001b[0;34m(\u001b[0m\u001b[0mmax_score\u001b[0m\u001b[0;34m)\u001b[0m\u001b[0;34m)\u001b[0m\u001b[0;34m\u001b[0m\u001b[0;34m\u001b[0m\u001b[0m\n\u001b[0;32m---> 13\u001b[0;31m \u001b[0mrefs2\u001b[0m \u001b[0;34m=\u001b[0m \u001b[0;34m[\u001b[0m\u001b[0mnp\u001b[0m\u001b[0;34m.\u001b[0m\u001b[0marray\u001b[0m\u001b[0;34m(\u001b[0m\u001b[0mi\u001b[0m\u001b[0;34m,\u001b[0m\u001b[0;34m'utf8'\u001b[0m\u001b[0;34m)\u001b[0m \u001b[0;32mfor\u001b[0m \u001b[0mi\u001b[0m \u001b[0;32min\u001b[0m \u001b[0mrefs\u001b[0m\u001b[0;34m]\u001b[0m\u001b[0;34m\u001b[0m\u001b[0;34m\u001b[0m\u001b[0m\n\u001b[0m\u001b[1;32m     14\u001b[0m \u001b[0;34m\u001b[0m\u001b[0m\n\u001b[1;32m     15\u001b[0m \u001b[0mtime_span\u001b[0m \u001b[0;34m=\u001b[0m \u001b[0mtime\u001b[0m\u001b[0;34m.\u001b[0m\u001b[0mtime\u001b[0m\u001b[0;34m(\u001b[0m\u001b[0;34m)\u001b[0m \u001b[0;34m-\u001b[0m \u001b[0mt1\u001b[0m\u001b[0;34m\u001b[0m\u001b[0;34m\u001b[0m\u001b[0m\n",
            "\u001b[0;32m<ipython-input-87-3a8d00356b4a>\u001b[0m in \u001b[0;36m<listcomp>\u001b[0;34m(.0)\u001b[0m\n\u001b[1;32m     11\u001b[0m \u001b[0mseq_array\u001b[0m \u001b[0;34m=\u001b[0m \u001b[0mnp\u001b[0m\u001b[0;34m.\u001b[0m\u001b[0marray\u001b[0m\u001b[0;34m(\u001b[0m\u001b[0mseq_byte\u001b[0m\u001b[0;34m)\u001b[0m\u001b[0;34m\u001b[0m\u001b[0;34m\u001b[0m\u001b[0m\n\u001b[1;32m     12\u001b[0m \u001b[0mmax_score_array\u001b[0m \u001b[0;34m=\u001b[0m \u001b[0mnp\u001b[0m\u001b[0;34m.\u001b[0m\u001b[0marray\u001b[0m\u001b[0;34m(\u001b[0m\u001b[0mnp\u001b[0m\u001b[0;34m.\u001b[0m\u001b[0mint\u001b[0m\u001b[0;34m(\u001b[0m\u001b[0mmax_score\u001b[0m\u001b[0;34m)\u001b[0m\u001b[0;34m)\u001b[0m\u001b[0;34m\u001b[0m\u001b[0;34m\u001b[0m\u001b[0m\n\u001b[0;32m---> 13\u001b[0;31m \u001b[0mrefs2\u001b[0m \u001b[0;34m=\u001b[0m \u001b[0;34m[\u001b[0m\u001b[0mnp\u001b[0m\u001b[0;34m.\u001b[0m\u001b[0marray\u001b[0m\u001b[0;34m(\u001b[0m\u001b[0mi\u001b[0m\u001b[0;34m,\u001b[0m\u001b[0;34m'utf8'\u001b[0m\u001b[0;34m)\u001b[0m \u001b[0;32mfor\u001b[0m \u001b[0mi\u001b[0m \u001b[0;32min\u001b[0m \u001b[0mrefs\u001b[0m\u001b[0;34m]\u001b[0m\u001b[0;34m\u001b[0m\u001b[0;34m\u001b[0m\u001b[0m\n\u001b[0m\u001b[1;32m     14\u001b[0m \u001b[0;34m\u001b[0m\u001b[0m\n\u001b[1;32m     15\u001b[0m \u001b[0mtime_span\u001b[0m \u001b[0;34m=\u001b[0m \u001b[0mtime\u001b[0m\u001b[0;34m.\u001b[0m\u001b[0mtime\u001b[0m\u001b[0;34m(\u001b[0m\u001b[0;34m)\u001b[0m \u001b[0;34m-\u001b[0m \u001b[0mt1\u001b[0m\u001b[0;34m\u001b[0m\u001b[0;34m\u001b[0m\u001b[0m\n",
            "\u001b[0;31mTypeError\u001b[0m: data type \"utf8\" not understood"
          ]
        }
      ]
    }
  ]
}